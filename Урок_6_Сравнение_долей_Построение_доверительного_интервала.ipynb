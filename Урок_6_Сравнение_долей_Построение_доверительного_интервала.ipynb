{
  "nbformat": 4,
  "nbformat_minor": 0,
  "metadata": {
    "colab": {
      "provenance": [],
      "authorship_tag": "ABX9TyO8ig2xlJNMHL8pJWOnBlMz",
      "include_colab_link": true
    },
    "kernelspec": {
      "name": "python3",
      "display_name": "Python 3"
    },
    "language_info": {
      "name": "python"
    }
  },
  "cells": [
    {
      "cell_type": "markdown",
      "metadata": {
        "id": "view-in-github",
        "colab_type": "text"
      },
      "source": [
        "<a href=\"https://colab.research.google.com/github/Umizmar/The_theory_of_probability/blob/main/%D0%A3%D1%80%D0%BE%D0%BA_6_%D0%A1%D1%80%D0%B0%D0%B2%D0%BD%D0%B5%D0%BD%D0%B8%D0%B5_%D0%B4%D0%BE%D0%BB%D0%B5%D0%B9_%D0%9F%D0%BE%D1%81%D1%82%D1%80%D0%BE%D0%B5%D0%BD%D0%B8%D0%B5_%D0%B4%D0%BE%D0%B2%D0%B5%D1%80%D0%B8%D1%82%D0%B5%D0%BB%D1%8C%D0%BD%D0%BE%D0%B3%D0%BE_%D0%B8%D0%BD%D1%82%D0%B5%D1%80%D0%B2%D0%B0%D0%BB%D0%B0.ipynb\" target=\"_parent\"><img src=\"https://colab.research.google.com/assets/colab-badge.svg\" alt=\"Open In Colab\"/></a>"
      ]
    },
    {
      "cell_type": "markdown",
      "source": [
        "##Урок 6. Сравнение долей. Построение доверительного интервала"
      ],
      "metadata": {
        "id": "BeIgswAVdjXU"
      }
    },
    {
      "cell_type": "markdown",
      "source": [
        "1. Известно, что генеральная совокупность распределена нормально со средним квадратическим отклонением, равным 16. Найти доверительный интервал для оценки математического ожидания a с надежностью 0.95, если выборочная средняя M = 80, а объем выборки n = 256.\n"
      ],
      "metadata": {
        "id": "Zq-YnCnwdnsl"
      }
    },
    {
      "cell_type": "markdown",
      "source": [
        "Поскольку известно среднее квадратичное генеральной совокупности, то\n",
        "используем формулу с z критерием:\n",
        "$$ \\bar X \\pm z_{\\alpha/2}\\cdot \\frac {\\sigma}{\\sqrt n}$$"
      ],
      "metadata": {
        "id": "OaqkUmEfeAPX"
      }
    },
    {
      "cell_type": "markdown",
      "source": [
        "$\\bar X = 80$  \n",
        "z от 2.5% = 1.96 по таблице  \n",
        "$\\sigma=16$  \n",
        "$n=256$"
      ],
      "metadata": {
        "id": "GDmtpisfi9Ru"
      }
    },
    {
      "cell_type": "code",
      "source": [
        "import math\n",
        "print(80+1.96*(16/math.sqrt(256)))\n",
        "80-1.96*(16/math.sqrt(256))"
      ],
      "metadata": {
        "colab": {
          "base_uri": "https://localhost:8080/"
        },
        "id": "69a5KnKfjvvC",
        "outputId": "845d22b7-0ece-47a5-b4e9-e7cea7653743"
      },
      "execution_count": 12,
      "outputs": [
        {
          "output_type": "stream",
          "name": "stdout",
          "text": [
            "81.96\n"
          ]
        },
        {
          "output_type": "execute_result",
          "data": {
            "text/plain": [
              "78.04"
            ]
          },
          "metadata": {},
          "execution_count": 12
        }
      ]
    },
    {
      "cell_type": "markdown",
      "source": [
        "**Ответ**: [78.04; 81.96]"
      ],
      "metadata": {
        "id": "XnIkcFSOeySf"
      }
    },
    {
      "cell_type": "markdown",
      "source": [
        "2. В результате 10 независимых измерений некоторой величины X, выполненных с одинаковой точностью, получены опытные данные: 6.9, 6.1, 6.2, 6.8, 7.5, 6.3, 6.4, 6.9, 6.7, 6.1 Предполагая, что результаты измерений подчинены нормальному закону распределения вероятностей, оценить истинное значение величины X при помощи доверительного интервала, покрывающего это значение с доверительной вероятностью 0,95."
      ],
      "metadata": {
        "id": "gRoOHAeidtkg"
      }
    },
    {
      "cell_type": "markdown",
      "source": [
        "Поскольку в задаче имеется выборка малого объема, применим распределение Стьюдента.$$ \\bar X \\pm t_{\\alpha/2}\\cdot \\frac {\\sigma}{\\sqrt n}$$\n",
        "n=10"
      ],
      "metadata": {
        "id": "vh1VOAEUTHxu"
      }
    },
    {
      "cell_type": "code",
      "source": [
        "import scipy.stats as stats\n",
        "import numpy as np\n",
        "\n",
        "data=[6.9, 6.1, 6.2, 6.8, 7.5, 6.3, 6.4, 6.9, 6.7, 6.1]\n",
        "x = np.mean(data)\n",
        "sigma = np.std(data, ddof=1)\n",
        "print(f'Выборочное среднее-{x}\\nСреднее квадратическое отклонение-{sigma}')"
      ],
      "metadata": {
        "colab": {
          "base_uri": "https://localhost:8080/"
        },
        "id": "dIRhuoSsYP_5",
        "outputId": "f5f70e84-ab1a-4f69-8717-1c3e708c60a4"
      },
      "execution_count": 7,
      "outputs": [
        {
          "output_type": "stream",
          "name": "stdout",
          "text": [
            "Выборочное среднее-6.590000000000001\n",
            "Среднее квадратическое отклонение-0.4508017549014448\n"
          ]
        }
      ]
    },
    {
      "cell_type": "markdown",
      "source": [
        "$\\bar X=6.59$  \n",
        "$\\sigma = 0.45$\n",
        "\n",
        "Найдем t-критерий"
      ],
      "metadata": {
        "id": "AXM-s968ZP5y"
      }
    },
    {
      "cell_type": "code",
      "source": [
        "t=stats.t.ppf(0.975,len(data)-1)\n",
        "t"
      ],
      "metadata": {
        "colab": {
          "base_uri": "https://localhost:8080/"
        },
        "id": "nmCqMMfPa0G7",
        "outputId": "38c02795-8e34-433b-f57e-4fc139995dfa"
      },
      "execution_count": 10,
      "outputs": [
        {
          "output_type": "execute_result",
          "data": {
            "text/plain": [
              "2.2621571627409915"
            ]
          },
          "metadata": {},
          "execution_count": 10
        }
      ]
    },
    {
      "cell_type": "markdown",
      "source": [
        "$$ 6.59 \\pm 2.26\\cdot \\frac {0.45}{\\sqrt 10}$$"
      ],
      "metadata": {
        "id": "gEBWqansdeaW"
      }
    },
    {
      "cell_type": "code",
      "source": [
        "print(6.59+2.226*(0.45/math.sqrt(10)))\n",
        "6.59-2.226*(0.45/math.sqrt(10))"
      ],
      "metadata": {
        "colab": {
          "base_uri": "https://localhost:8080/"
        },
        "id": "XRQAKl5ZdyE3",
        "outputId": "3035b355-b539-4624-d38a-c756d6de0c7c"
      },
      "execution_count": 14,
      "outputs": [
        {
          "output_type": "stream",
          "name": "stdout",
          "text": [
            "6.9067653532190665\n"
          ]
        },
        {
          "output_type": "execute_result",
          "data": {
            "text/plain": [
              "6.273234646780933"
            ]
          },
          "metadata": {},
          "execution_count": 14
        }
      ]
    },
    {
      "cell_type": "markdown",
      "source": [
        "**Ответ**: истинное значение случайной величины лежит в доверительном интервале (6.27; 6.91) с доверительной вероятностью 0,95."
      ],
      "metadata": {
        "id": "NNJUVmiFegZY"
      }
    },
    {
      "cell_type": "markdown",
      "source": [
        " 3. Рост дочерей 175, 167, 154, 174, 178, 148, 160, 167, 169, 170 Рост матерей  178, 165, 165, 173, 168, 155, 160, 164, 178, 175 Используя эти данные построить 95% доверительный интервал для разности среднего роста родителей и детей."
      ],
      "metadata": {
        "id": "NMiWAxWDdwjp"
      }
    },
    {
      "cell_type": "markdown",
      "source": [
        "Интервальная оценка для разности средних арифметических  \n",
        "$Δ \\pm t_{\\alpha/2} \\cdot S_{Δ}$, где $Δ=\\bar X_1-\\bar X_2$"
      ],
      "metadata": {
        "id": "YGKeKkp9oSo6"
      }
    },
    {
      "cell_type": "code",
      "source": [
        "mother = [178, 165, 165, 173, 168, 155, 160, 164, 178, 175]\n",
        "daughter = [175, 167, 154, 174, 178, 148, 160, 167, 169, 170]\n",
        "x1=np.mean(mother)\n",
        "x2=np.mean(daughter)\n",
        "x= x1-x2\n",
        "x"
      ],
      "metadata": {
        "colab": {
          "base_uri": "https://localhost:8080/"
        },
        "id": "FlzUhZ_9pnsS",
        "outputId": "23652533-b30d-4f41-9255-eb347f93d1c0"
      },
      "execution_count": 16,
      "outputs": [
        {
          "output_type": "execute_result",
          "data": {
            "text/plain": [
              "1.9000000000000057"
            ]
          },
          "metadata": {},
          "execution_count": 16
        }
      ]
    },
    {
      "cell_type": "markdown",
      "source": [
        "$Δ=1.9$\n",
        "\n",
        "Найдем t, где степень своды = 2*(n-1)=18"
      ],
      "metadata": {
        "id": "98uSsm16qPv7"
      }
    },
    {
      "cell_type": "code",
      "source": [
        "t=stats.t.ppf(0.975,18)\n",
        "t"
      ],
      "metadata": {
        "colab": {
          "base_uri": "https://localhost:8080/"
        },
        "id": "RoQvq92Fqjab",
        "outputId": "79e86c0d-d958-4f70-e6cb-7cdc7af9d1c0"
      },
      "execution_count": 23,
      "outputs": [
        {
          "output_type": "execute_result",
          "data": {
            "text/plain": [
              "2.10092204024096"
            ]
          },
          "metadata": {},
          "execution_count": 23
        }
      ]
    },
    {
      "cell_type": "markdown",
      "source": [
        "t=2.26  \n",
        "$S_{Δ}=\\sqrt {\\frac{D}{n_1}+\\frac{D}{n_2}}$, где n1 и n2 объемы выборок и = 10  \n",
        "$D=\\frac {1}{2}(D1+D2)$"
      ],
      "metadata": {
        "id": "suy1k-sqqbKP"
      }
    },
    {
      "cell_type": "code",
      "source": [
        "D1=np.var(mother, ddof=1)\n",
        "D2=np.var(daughter, ddof=1)\n",
        "D=(D1+D2)/2\n",
        "D"
      ],
      "metadata": {
        "colab": {
          "base_uri": "https://localhost:8080/"
        },
        "id": "MYM9D889sUMX",
        "outputId": "4ec9b802-eeb4-42ef-8587-d7d67d1def8e"
      },
      "execution_count": 19,
      "outputs": [
        {
          "output_type": "execute_result",
          "data": {
            "text/plain": [
              "75.58333333333334"
            ]
          },
          "metadata": {},
          "execution_count": 19
        }
      ]
    },
    {
      "cell_type": "markdown",
      "source": [
        "D=75.58"
      ],
      "metadata": {
        "id": "81e_49_JsqT5"
      }
    },
    {
      "cell_type": "markdown",
      "source": [
        "Найдем стандартную ошибку для разности двух средних арифметических $S_Δ$"
      ],
      "metadata": {
        "id": "AmA-Brf7s7I1"
      }
    },
    {
      "cell_type": "code",
      "source": [
        "s=np.sqrt(2*(75.58/10))\n",
        "s"
      ],
      "metadata": {
        "colab": {
          "base_uri": "https://localhost:8080/"
        },
        "id": "3GToPfVftPbP",
        "outputId": "018144d2-f8f7-4398-fd57-f9d651995887"
      },
      "execution_count": 22,
      "outputs": [
        {
          "output_type": "execute_result",
          "data": {
            "text/plain": [
              "3.8879300405228485"
            ]
          },
          "metadata": {},
          "execution_count": 22
        }
      ]
    },
    {
      "cell_type": "markdown",
      "source": [
        "Найдем интервал"
      ],
      "metadata": {
        "id": "bLS7JH29q8hs"
      }
    },
    {
      "cell_type": "code",
      "source": [
        "L = 1.9 - (2.1*3.9)\n",
        "U = 1.9 + (2.1*3.9)\n",
        "L,U"
      ],
      "metadata": {
        "colab": {
          "base_uri": "https://localhost:8080/"
        },
        "id": "7oqEy0wLv8Xj",
        "outputId": "ff7fb394-7ad8-40b6-a724-57f00da3f319"
      },
      "execution_count": 26,
      "outputs": [
        {
          "output_type": "execute_result",
          "data": {
            "text/plain": [
              "(-6.289999999999999, 10.09)"
            ]
          },
          "metadata": {},
          "execution_count": 26
        }
      ]
    },
    {
      "cell_type": "markdown",
      "source": [
        "**Ответ**: доверительный интервал для разности средних арифметических (-6.29;10.09)"
      ],
      "metadata": {
        "id": "6ke1do2cwgJ7"
      }
    }
  ]
}