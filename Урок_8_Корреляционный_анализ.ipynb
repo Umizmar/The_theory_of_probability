{
  "nbformat": 4,
  "nbformat_minor": 0,
  "metadata": {
    "colab": {
      "provenance": [],
      "authorship_tag": "ABX9TyN1XAR2LsFYubQQSEMXrzj1"
    },
    "kernelspec": {
      "name": "python3",
      "display_name": "Python 3"
    },
    "language_info": {
      "name": "python"
    }
  },
  "cells": [
    {
      "cell_type": "markdown",
      "source": [
        "##Урок 8. Корреляционный анализ"
      ],
      "metadata": {
        "id": "VJIydChjJ30S"
      }
    },
    {
      "cell_type": "markdown",
      "source": [
        "1. Даны значения величины заработной платы заемщиков банка (zp) и значения их поведенческого кредитного скоринга (ks): zp = [35, 45, 190, 200, 40, 70, 54, 150, 120, 110], ks = [401, 574, 874, 919, 459, 739, 653, 902, 746, 832]. Найдите ковариацию этих двух величин с помощью элементарных действий, а затем с помощью функции cov из numpy Полученные значения должны быть равны. Найдите коэффициент корреляции Пирсона с помощью ковариации и среднеквадратичных отклонений двух признаков, а затем с использованием функций из библиотек numpy и pandas.\n"
      ],
      "metadata": {
        "id": "XAxuB8c_J_p2"
      }
    },
    {
      "cell_type": "code",
      "source": [
        "import seaborn as sns\n",
        "import matplotlib.pyplot as plt\n",
        "import numpy as np"
      ],
      "metadata": {
        "id": "TcG04pIQfsIh"
      },
      "execution_count": null,
      "outputs": []
    },
    {
      "cell_type": "code",
      "source": [
        "zp = [35, 45, 190, 200, 40, 70, 54, 150, 120, 110]\n",
        "ks = [401, 574, 874, 919, 459, 739, 653, 902, 746, 832]"
      ],
      "metadata": {
        "id": "Lu--1bWVi3G3"
      },
      "execution_count": null,
      "outputs": []
    },
    {
      "cell_type": "markdown",
      "source": [
        "$cov_{zpks}=M(zpks)-M(zp)*M(ks)$"
      ],
      "metadata": {
        "id": "dICwqJ3MXBvd"
      }
    },
    {
      "cell_type": "code",
      "source": [
        "zpks=list(map(lambda x,y: x*y, zp, ks))\n",
        "zpks"
      ],
      "metadata": {
        "colab": {
          "base_uri": "https://localhost:8080/"
        },
        "id": "A0aQ5zBuXZAp",
        "outputId": "58df440f-dfde-4b04-c3a2-b2b8f2e1e48f"
      },
      "execution_count": null,
      "outputs": [
        {
          "output_type": "execute_result",
          "data": {
            "text/plain": [
              "[14035, 25830, 166060, 183800, 18360, 51730, 35262, 135300, 89520, 91520]"
            ]
          },
          "metadata": {},
          "execution_count": 10
        }
      ]
    },
    {
      "cell_type": "code",
      "source": [
        "def mean_(data:list):\n",
        "    return sum(data)/10\n",
        "\n",
        "cov = mean_(zpks) - mean_(zp) * mean_(ks)\n",
        "cov"
      ],
      "metadata": {
        "colab": {
          "base_uri": "https://localhost:8080/"
        },
        "id": "18tSkRcfaGGY",
        "outputId": "b74fd31e-7fd0-4952-b328-bfe945015e9f"
      },
      "execution_count": null,
      "outputs": [
        {
          "output_type": "execute_result",
          "data": {
            "text/plain": [
              "9157.839999999997"
            ]
          },
          "metadata": {},
          "execution_count": 12
        }
      ]
    },
    {
      "cell_type": "code",
      "source": [
        "np.cov(zp, ks, ddof=0)"
      ],
      "metadata": {
        "colab": {
          "base_uri": "https://localhost:8080/"
        },
        "id": "V1PkBgyBkoZs",
        "outputId": "20b724e7-22ba-420e-e1dc-f9b031d7d15e"
      },
      "execution_count": null,
      "outputs": [
        {
          "output_type": "execute_result",
          "data": {
            "text/plain": [
              "array([[ 3494.64,  9157.84],\n",
              "       [ 9157.84, 30468.89]])"
            ]
          },
          "metadata": {},
          "execution_count": 15
        }
      ]
    },
    {
      "cell_type": "markdown",
      "source": [
        "Коэффициент корреляции Пирсона:  \n",
        "$r_{x,y}=\\frac{cov_{x,y}}{\\sigma_x\\cdot\\sigma_y}$"
      ],
      "metadata": {
        "id": "5xwrlu1cesFR"
      }
    },
    {
      "cell_type": "code",
      "source": [
        "sigma_zp = np.std(zp, ddof=0)\n",
        "sigma_ks = np.std(ks, ddof=0)\n",
        "r=cov/(sigma_zp*sigma_ks)\n",
        "r"
      ],
      "metadata": {
        "colab": {
          "base_uri": "https://localhost:8080/"
        },
        "id": "ki2D7EwgfJnm",
        "outputId": "5b29414e-35c7-4e5b-c2ce-69e03a58c421"
      },
      "execution_count": null,
      "outputs": [
        {
          "output_type": "execute_result",
          "data": {
            "text/plain": [
              "0.8874900920739158"
            ]
          },
          "metadata": {},
          "execution_count": 21
        }
      ]
    },
    {
      "cell_type": "code",
      "source": [
        "np.corrcoef(zp,ks)"
      ],
      "metadata": {
        "colab": {
          "base_uri": "https://localhost:8080/"
        },
        "id": "f4dQ00z6gytP",
        "outputId": "00d56442-dcac-49fe-e5ff-205b2c745357"
      },
      "execution_count": null,
      "outputs": [
        {
          "output_type": "execute_result",
          "data": {
            "text/plain": [
              "array([[1.        , 0.88749009],\n",
              "       [0.88749009, 1.        ]])"
            ]
          },
          "metadata": {},
          "execution_count": 22
        }
      ]
    },
    {
      "cell_type": "markdown",
      "source": [
        "2. Измерены значения IQ выборки студентов, обучающихся в местных технических вузах: 131, 125, 115, 122, 131, 115, 107, 99, 125, 111. Известно, что в генеральной совокупности IQ распределен нормально. Найдите доверительный интервал для математического ожидания с надежностью 0.95.\n"
      ],
      "metadata": {
        "id": "57PrIgW-KC2_"
      }
    },
    {
      "cell_type": "markdown",
      "source": [
        "Поскольку в задаче имеется выборка малого объема, применим распределение Стьюдента.$$ \\bar X \\pm t_{\\alpha/2}\\cdot \\frac {\\sigma}{\\sqrt n}$$\n",
        "n=10"
      ],
      "metadata": {
        "id": "XikjC-0QT_gh"
      }
    },
    {
      "cell_type": "code",
      "source": [
        "import scipy.stats as stats\n",
        "import numpy as np\n",
        "\n",
        "data=[131, 125, 115, 122, 131, 115, 107, 99, 125, 111]\n",
        "x = np.mean(data)\n",
        "sigma = np.std(data, ddof=1)\n",
        "print(f'Выборочное среднее-{x}\\nСреднее квадратическое отклонение-{sigma}')"
      ],
      "metadata": {
        "colab": {
          "base_uri": "https://localhost:8080/"
        },
        "id": "OjWd_phkUJ3d",
        "outputId": "0813a79f-d8ad-4a2b-86e6-ea5ecca575fe"
      },
      "execution_count": null,
      "outputs": [
        {
          "output_type": "stream",
          "name": "stdout",
          "text": [
            "Выборочное среднее-118.1\n",
            "Среднее квадратическое отклонение-10.54566788359614\n"
          ]
        }
      ]
    },
    {
      "cell_type": "markdown",
      "source": [
        "$\\bar X=118.1$  \n",
        "$\\sigma = 10.55$\n",
        "\n",
        "Найдем t-критерий, табличный"
      ],
      "metadata": {
        "id": "QMukBSkHUc6G"
      }
    },
    {
      "cell_type": "code",
      "source": [
        "t=stats.t.ppf(0.975,len(data)-1)\n",
        "t"
      ],
      "metadata": {
        "colab": {
          "base_uri": "https://localhost:8080/"
        },
        "id": "Gvttx4ozUsIt",
        "outputId": "83d1893d-9f3c-43ef-e1b9-71d7dd6d7b9f"
      },
      "execution_count": null,
      "outputs": [
        {
          "output_type": "execute_result",
          "data": {
            "text/plain": [
              "2.2621571627409915"
            ]
          },
          "metadata": {},
          "execution_count": 2
        }
      ]
    },
    {
      "cell_type": "markdown",
      "source": [
        "$$ 118.1 \\pm 2.26\\cdot \\frac {10.55}{\\sqrt 10}$$"
      ],
      "metadata": {
        "id": "LqSYTs4wU8vV"
      }
    },
    {
      "cell_type": "code",
      "source": [
        "import math\n",
        "print(118.1+2.226*(10.55/math.sqrt(10)))\n",
        "118.1-2.226*(10.55/math.sqrt(10))"
      ],
      "metadata": {
        "colab": {
          "base_uri": "https://localhost:8080/"
        },
        "id": "jq_Bwib9VTA4",
        "outputId": "9f8a9648-8bda-4aea-c28e-f8c436973e39"
      },
      "execution_count": null,
      "outputs": [
        {
          "output_type": "stream",
          "name": "stdout",
          "text": [
            "125.52638772546922\n"
          ]
        },
        {
          "output_type": "execute_result",
          "data": {
            "text/plain": [
              "110.67361227453077"
            ]
          },
          "metadata": {},
          "execution_count": 6
        }
      ]
    },
    {
      "cell_type": "markdown",
      "source": [
        "**Ответ**: [110.67; 125.53]"
      ],
      "metadata": {
        "id": "fBEz5kImVt0M"
      }
    },
    {
      "cell_type": "markdown",
      "source": [
        "3. Известно, что рост футболистов в сборной распределен нормально с дисперсией генеральной совокупности, равной 25 кв.см. Объем выборки равен 27, среднее выборочное составляет 174.2. Найдите доверительный интервал для математического ожидания с надежностью 0.95."
      ],
      "metadata": {
        "id": "2IHFF4fWKMFL"
      }
    },
    {
      "cell_type": "markdown",
      "source": [
        "Поскольку известна дисперсия генеральной совокупности, то\n",
        "используем формулу с z критерием:\n",
        "$$ \\bar X \\pm z_{\\alpha/2}\\cdot \\frac {\\sigma}{\\sqrt n}$$"
      ],
      "metadata": {
        "id": "MT8xIwBhW8Eo"
      }
    },
    {
      "cell_type": "markdown",
      "source": [
        "$\\bar X = 174.2$  \n",
        "z от 2.5% = 1.96 по таблице  \n",
        "$\\sigma=\\sqrt{25}=5$  \n",
        "$n=27$"
      ],
      "metadata": {
        "id": "b2l9jzJMXQlp"
      }
    },
    {
      "cell_type": "code",
      "execution_count": null,
      "metadata": {
        "colab": {
          "base_uri": "https://localhost:8080/"
        },
        "id": "YYPbkI-cJy1A",
        "outputId": "15332b1c-aa7c-48b9-a0bf-b4c87587b90e"
      },
      "outputs": [
        {
          "output_type": "stream",
          "name": "stdout",
          "text": [
            "176.08601087935276\n"
          ]
        },
        {
          "output_type": "execute_result",
          "data": {
            "text/plain": [
              "172.31398912064722"
            ]
          },
          "metadata": {},
          "execution_count": 8
        }
      ],
      "source": [
        "import math\n",
        "print(174.2+1.96*(5/math.sqrt(27)))\n",
        "174.2-1.96*(5/math.sqrt(27))"
      ]
    },
    {
      "cell_type": "markdown",
      "source": [
        "**Ответ**: [172.31; 176.08]"
      ],
      "metadata": {
        "id": "lQAxUZ_lX_9_"
      }
    }
  ]
}