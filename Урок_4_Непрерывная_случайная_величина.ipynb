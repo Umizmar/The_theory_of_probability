{
  "nbformat": 4,
  "nbformat_minor": 0,
  "metadata": {
    "colab": {
      "provenance": [],
      "authorship_tag": "ABX9TyNa4iI6vnV6/uKHIYWlVBy7",
      "include_colab_link": true
    },
    "kernelspec": {
      "name": "python3",
      "display_name": "Python 3"
    },
    "language_info": {
      "name": "python"
    }
  },
  "cells": [
    {
      "cell_type": "markdown",
      "metadata": {
        "id": "view-in-github",
        "colab_type": "text"
      },
      "source": [
        "<a href=\"https://colab.research.google.com/github/Umizmar/The_theory_of_probability/blob/main/%D0%A3%D1%80%D0%BE%D0%BA_4_%D0%9D%D0%B5%D0%BF%D1%80%D0%B5%D1%80%D1%8B%D0%B2%D0%BD%D0%B0%D1%8F_%D1%81%D0%BB%D1%83%D1%87%D0%B0%D0%B9%D0%BD%D0%B0%D1%8F_%D0%B2%D0%B5%D0%BB%D0%B8%D1%87%D0%B8%D0%BD%D0%B0.ipynb\" target=\"_parent\"><img src=\"https://colab.research.google.com/assets/colab-badge.svg\" alt=\"Open In Colab\"/></a>"
      ]
    },
    {
      "cell_type": "markdown",
      "source": [
        "##Урок 4. Непрерывная случайная величина"
      ],
      "metadata": {
        "id": "NTfLsipmQPVe"
      }
    },
    {
      "cell_type": "markdown",
      "source": [
        "1. Случайная непрерывная величина A имеет равномерное распределение на промежутке (200, 800]. Найдите ее среднее значение и дисперсию.\n"
      ],
      "metadata": {
        "id": "ToTft9u_QWy4"
      }
    },
    {
      "cell_type": "code",
      "execution_count": 16,
      "metadata": {
        "id": "B75BfoGjOTkv"
      },
      "outputs": [],
      "source": [
        "def mean_(a, b):\n",
        "    return (a+b)/2\n",
        "\n",
        "def disp(a, b):\n",
        "    dispers = (b-a)**2/12\n",
        "    return dispers"
      ]
    },
    {
      "cell_type": "code",
      "source": [
        "print('Среднее значение -', mean_(200,800))\n",
        "print('Дисперсия -', disp(200,800))\n"
      ],
      "metadata": {
        "colab": {
          "base_uri": "https://localhost:8080/"
        },
        "id": "-Xemik2bkSJs",
        "outputId": "76380ce2-ae5e-458f-fcc4-3679e4bfdd7f"
      },
      "execution_count": 17,
      "outputs": [
        {
          "output_type": "stream",
          "name": "stdout",
          "text": [
            "Среднее значение - 500.0\n",
            "Дисперсия - 30000.0\n"
          ]
        }
      ]
    },
    {
      "cell_type": "markdown",
      "source": [
        "2. О случайной непрерывной равномерно распределенной величине B известно, что ее дисперсия равна 0.2. Можно ли найти правую границу величины B и ее среднее значение зная, что левая граница равна 0.5? Если да, найдите ее.\n"
      ],
      "metadata": {
        "id": "9EQPy8qpQmdA"
      }
    },
    {
      "cell_type": "markdown",
      "source": [
        "Т.к. $D(X)=\\frac{(b-a)^2}{12}$, то  \n",
        "$0.2=\\frac{(b-0.5)^2}{12}\\Rightarrow b-0.5=\\sqrt2.4$"
      ],
      "metadata": {
        "id": "N1qYyxp-mR6-"
      }
    },
    {
      "cell_type": "code",
      "source": [
        "right = 2.4**0.5+0.5\n",
        "print ('Правая граница', right)\n",
        "print('Среднее значение', mean_(0.5, right))"
      ],
      "metadata": {
        "colab": {
          "base_uri": "https://localhost:8080/"
        },
        "id": "dWsTAj1_oa43",
        "outputId": "0d196a1a-6ce2-40dc-dd4e-2c5e763436ed"
      },
      "execution_count": 20,
      "outputs": [
        {
          "output_type": "stream",
          "name": "stdout",
          "text": [
            "Правая граница 2.049193338482967\n",
            "Среднее значение 1.2745966692414834\n"
          ]
        }
      ]
    },
    {
      "cell_type": "markdown",
      "source": [
        "3. Непрерывная случайная величина X распределена нормально и задана плотностью распределения $$f(x) = \\frac{1}{4\\sqrt2\\pi}\\cdot e^{-\\frac{(x+2)^2}{32}}$$\n",
        "Найдите:  \n",
        "а). M(X)  \n",
        "б). D(X)  \n",
        "в). std(X) (среднее квадратичное отклонение)"
      ],
      "metadata": {
        "id": "dO9Wi4QkQtwz"
      }
    },
    {
      "cell_type": "markdown",
      "source": [
        "Из общей формулы плотности нормального распределения:$$f(x) = \\frac{1}{\\sigma\\sqrt2\\pi}\\cdot e^{-\\frac{(x-a)^2}{2\\sigma^2}}$$\n",
        "Следует:  \n",
        "$M(X)=a=-2$  \n",
        "$std(X)=\\sigma=4$  \n",
        "$D(X)=\\sigma^2=16$"
      ],
      "metadata": {
        "id": "bwZrv3kpXeEa"
      }
    },
    {
      "cell_type": "markdown",
      "source": [
        "4. Рост взрослого населения города X имеет нормальное распределение.\n",
        "Причем, средний рост равен 174 см, а среднее квадратичное отклонение равно 8 см.  \n",
        "Какова вероятность того, что случайным образом выбранный взрослый человек имеет рост:  \n",
        "а). больше 182 см  \n",
        "б). больше 190 см  \n",
        "в). от 166 см до 190 см  \n",
        "г). от 166 см до 182 см  \n",
        "д). от 158 см до 190 см  \n",
        "е). не выше 150 см или не ниже 190 см  \n",
        "ё). не выше 150 см или не ниже 198 см  \n",
        "ж). ниже 166 см."
      ],
      "metadata": {
        "id": "AE6SV2ZERJH3"
      }
    },
    {
      "cell_type": "markdown",
      "source": [
        "Т.к. $z=\\frac{x-m}{\\sigma}=\\frac{x-174}{8}$"
      ],
      "metadata": {
        "id": "70dBjRwASVOF"
      }
    },
    {
      "cell_type": "code",
      "source": [
        "def z(x):\n",
        "    return (x-174)/8"
      ],
      "metadata": {
        "id": "WHYWehq4TQIg"
      },
      "execution_count": 1,
      "outputs": []
    },
    {
      "cell_type": "markdown",
      "source": [
        "а). Определим Z"
      ],
      "metadata": {
        "id": "DE9PBkydUeVs"
      }
    },
    {
      "cell_type": "code",
      "source": [
        "print(z(182))"
      ],
      "metadata": {
        "colab": {
          "base_uri": "https://localhost:8080/"
        },
        "id": "ngQgOmgvUwJU",
        "outputId": "9da5c3a3-142a-46c6-b1ce-b64c903a6515"
      },
      "execution_count": 2,
      "outputs": [
        {
          "output_type": "stream",
          "name": "stdout",
          "text": [
            "1.0\n"
          ]
        }
      ]
    },
    {
      "cell_type": "markdown",
      "source": [
        "Смотрим значение по z-таблице: $0.84134$\n",
        "Это значение z, которое меньше или равно 182см, т.к. нам надо больше, то"
      ],
      "metadata": {
        "id": "zSKSdr2kVW9G"
      }
    },
    {
      "cell_type": "code",
      "source": [
        "1-0.84134"
      ],
      "metadata": {
        "colab": {
          "base_uri": "https://localhost:8080/"
        },
        "id": "0w3ZqJpKX3XY",
        "outputId": "8572e7e6-59a4-4341-e7a6-3fce7bcd39ee"
      },
      "execution_count": 4,
      "outputs": [
        {
          "output_type": "execute_result",
          "data": {
            "text/plain": [
              "0.15866000000000002"
            ]
          },
          "metadata": {},
          "execution_count": 4
        }
      ]
    },
    {
      "cell_type": "markdown",
      "source": [
        "б)."
      ],
      "metadata": {
        "id": "fQkehAPjVq3X"
      }
    },
    {
      "cell_type": "code",
      "source": [
        "print(z(190))"
      ],
      "metadata": {
        "colab": {
          "base_uri": "https://localhost:8080/"
        },
        "id": "n8B-frdZVxqi",
        "outputId": "b2744641-9cf8-4e12-bcfe-52c46b7b5ad9"
      },
      "execution_count": 3,
      "outputs": [
        {
          "output_type": "stream",
          "name": "stdout",
          "text": [
            "2.0\n"
          ]
        }
      ]
    },
    {
      "cell_type": "markdown",
      "source": [
        "Смотрим значение по z-таблице: $0.97725$"
      ],
      "metadata": {
        "id": "TJD50vfaV4ms"
      }
    },
    {
      "cell_type": "code",
      "source": [
        "1-0.97725"
      ],
      "metadata": {
        "colab": {
          "base_uri": "https://localhost:8080/"
        },
        "id": "BIZ15_o3YBZD",
        "outputId": "8cefe595-c4c5-40db-fd33-4e5739f22e4e"
      },
      "execution_count": 5,
      "outputs": [
        {
          "output_type": "execute_result",
          "data": {
            "text/plain": [
              "0.022750000000000048"
            ]
          },
          "metadata": {},
          "execution_count": 5
        }
      ]
    },
    {
      "cell_type": "markdown",
      "source": [
        "в). z1 от 166  \n",
        "z2 до 190\n"
      ],
      "metadata": {
        "id": "gZOb3pcjYOtc"
      }
    },
    {
      "cell_type": "code",
      "source": [
        "print(z(166))"
      ],
      "metadata": {
        "colab": {
          "base_uri": "https://localhost:8080/"
        },
        "id": "emYUaENoYf6r",
        "outputId": "656d3b4d-6a34-4f4f-eaf6-86ccbfcbe02c"
      },
      "execution_count": 6,
      "outputs": [
        {
          "output_type": "stream",
          "name": "stdout",
          "text": [
            "-1.0\n"
          ]
        }
      ]
    },
    {
      "cell_type": "markdown",
      "source": [
        "Смотрим значение по z-таблице:  0.1587"
      ],
      "metadata": {
        "id": "mG1P3s1wY_Ug"
      }
    },
    {
      "cell_type": "code",
      "source": [
        "0.97725-0.1587"
      ],
      "metadata": {
        "colab": {
          "base_uri": "https://localhost:8080/"
        },
        "id": "5o5YkhhFaFq4",
        "outputId": "2c4195ce-3664-4353-8300-f685b4c07fb5"
      },
      "execution_count": 8,
      "outputs": [
        {
          "output_type": "execute_result",
          "data": {
            "text/plain": [
              "0.8185499999999999"
            ]
          },
          "metadata": {},
          "execution_count": 8
        }
      ]
    },
    {
      "cell_type": "markdown",
      "source": [
        "г)."
      ],
      "metadata": {
        "id": "LENDndexaaGa"
      }
    },
    {
      "cell_type": "code",
      "source": [
        "0.84134-0.1587"
      ],
      "metadata": {
        "colab": {
          "base_uri": "https://localhost:8080/"
        },
        "id": "jjOmcclwafbe",
        "outputId": "408f2229-d91d-48ce-c574-9de44f700e0c"
      },
      "execution_count": 9,
      "outputs": [
        {
          "output_type": "execute_result",
          "data": {
            "text/plain": [
              "0.6826399999999999"
            ]
          },
          "metadata": {},
          "execution_count": 9
        }
      ]
    },
    {
      "cell_type": "markdown",
      "source": [
        "д)."
      ],
      "metadata": {
        "id": "rY-W19ToatdD"
      }
    },
    {
      "cell_type": "code",
      "source": [
        "print(z(158))"
      ],
      "metadata": {
        "colab": {
          "base_uri": "https://localhost:8080/"
        },
        "id": "FQc9gp4PazJW",
        "outputId": "f9e944f2-5be9-49f8-fc72-bbcf99853369"
      },
      "execution_count": 10,
      "outputs": [
        {
          "output_type": "stream",
          "name": "stdout",
          "text": [
            "-2.0\n"
          ]
        }
      ]
    },
    {
      "cell_type": "markdown",
      "source": [
        "Смотрим значение по z-таблице: 0.0228"
      ],
      "metadata": {
        "id": "_ZlwbUona6ex"
      }
    },
    {
      "cell_type": "code",
      "source": [
        "0.97725-0.0228"
      ],
      "metadata": {
        "colab": {
          "base_uri": "https://localhost:8080/"
        },
        "id": "OnjYr4lRbAgs",
        "outputId": "5fc345d1-852d-45c1-ba88-34dc4a613e71"
      },
      "execution_count": 11,
      "outputs": [
        {
          "output_type": "execute_result",
          "data": {
            "text/plain": [
              "0.9544499999999999"
            ]
          },
          "metadata": {},
          "execution_count": 11
        }
      ]
    },
    {
      "cell_type": "markdown",
      "source": [
        "е)."
      ],
      "metadata": {
        "id": "3-8MR9X9bQmM"
      }
    },
    {
      "cell_type": "code",
      "source": [
        "print(z(150))"
      ],
      "metadata": {
        "colab": {
          "base_uri": "https://localhost:8080/"
        },
        "id": "0GMSOddqb1_k",
        "outputId": "0195aad3-f625-4fe2-8aa0-d3c39be4a83f"
      },
      "execution_count": 12,
      "outputs": [
        {
          "output_type": "stream",
          "name": "stdout",
          "text": [
            "-3.0\n"
          ]
        }
      ]
    },
    {
      "cell_type": "markdown",
      "source": [
        "Смотрим значение по z-таблице: 0.0013"
      ],
      "metadata": {
        "id": "j5BOTwlFb8SY"
      }
    },
    {
      "cell_type": "code",
      "source": [
        "0.0013+0.022750000000000048"
      ],
      "metadata": {
        "colab": {
          "base_uri": "https://localhost:8080/"
        },
        "id": "oLZ95ZudcEjy",
        "outputId": "b0ea59ec-f33e-41d7-9212-51060d557184"
      },
      "execution_count": 18,
      "outputs": [
        {
          "output_type": "execute_result",
          "data": {
            "text/plain": [
              "0.024050000000000047"
            ]
          },
          "metadata": {},
          "execution_count": 18
        }
      ]
    },
    {
      "cell_type": "markdown",
      "source": [
        "ё)."
      ],
      "metadata": {
        "id": "m1kmu8W4c_0Y"
      }
    },
    {
      "cell_type": "code",
      "source": [
        "print(z(198))"
      ],
      "metadata": {
        "colab": {
          "base_uri": "https://localhost:8080/"
        },
        "id": "JKqEBXYWdDjx",
        "outputId": "919d46fe-9e75-49dc-a0d5-fa3422fab906"
      },
      "execution_count": 19,
      "outputs": [
        {
          "output_type": "stream",
          "name": "stdout",
          "text": [
            "3.0\n"
          ]
        }
      ]
    },
    {
      "cell_type": "markdown",
      "source": [
        "Смотрим значение по z-таблице: 0.99865"
      ],
      "metadata": {
        "id": "LwR1RrOBdJ7i"
      }
    },
    {
      "cell_type": "code",
      "source": [
        "0.0013+1-0.99865"
      ],
      "metadata": {
        "colab": {
          "base_uri": "https://localhost:8080/"
        },
        "id": "eUKBJPskdQu9",
        "outputId": "690ffeb8-62bc-4c1f-9c93-301ba48f5dbe"
      },
      "execution_count": 20,
      "outputs": [
        {
          "output_type": "execute_result",
          "data": {
            "text/plain": [
              "0.002650000000000041"
            ]
          },
          "metadata": {},
          "execution_count": 20
        }
      ]
    },
    {
      "cell_type": "markdown",
      "source": [
        "а) $P(X\\ge182)=0.1587$;  \n",
        "б) $P(X\\ge190)=0.02275$;  \n",
        "в) $P(166\\le X\\le 190)=0.8186$;  \n",
        "г) $P(166\\le X\\le 182)=0.6827$;  \n",
        "д) $P(158\\le X\\le 190)=0.9545$;  \n",
        "е) $P(X\\le150\\cup X\\ge 190)=0.0241$;  \n",
        "ё) $P(X\\le150\\cup X\\ge 198)=0.0027$;  \n",
        "ж) $P(X\\le166)=0.1587$;  "
      ],
      "metadata": {
        "id": "56AH4i2xdf39"
      }
    },
    {
      "cell_type": "markdown",
      "source": [
        "5. На сколько сигм (средних квадратичных отклонений) отклоняется рост человека, равный 190 см, от математического ожидания роста в популяции, в которой M(X) = 178 см и D(X) = 25 кв.см?"
      ],
      "metadata": {
        "id": "ssjv2l9rRTPU"
      }
    },
    {
      "cell_type": "markdown",
      "source": [
        "Т.к. $z=\\frac{x-m}{\\sigma}$  \n",
        "\n",
        "$\\frac{190-178}{\\sqrt{25}}=\\frac{12}{5}$"
      ],
      "metadata": {
        "id": "LPO8CdmCe1Js"
      }
    },
    {
      "cell_type": "code",
      "source": [
        "12/5"
      ],
      "metadata": {
        "colab": {
          "base_uri": "https://localhost:8080/"
        },
        "id": "SFhZtBsLfgUi",
        "outputId": "91c0cd7e-ca1a-4a90-dc7d-bf03347638e8"
      },
      "execution_count": 23,
      "outputs": [
        {
          "output_type": "execute_result",
          "data": {
            "text/plain": [
              "2.4"
            ]
          },
          "metadata": {},
          "execution_count": 23
        }
      ]
    }
  ]
}