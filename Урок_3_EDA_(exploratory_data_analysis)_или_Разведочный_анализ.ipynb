{
  "cells": [
    {
      "cell_type": "markdown",
      "metadata": {
        "id": "view-in-github",
        "colab_type": "text"
      },
      "source": [
        "<a href=\"https://colab.research.google.com/github/Umizmar/The_theory_of_probability/blob/main/%D0%A3%D1%80%D0%BE%D0%BA_3_EDA_(exploratory_data_analysis)_%D0%B8%D0%BB%D0%B8_%D0%A0%D0%B0%D0%B7%D0%B2%D0%B5%D0%B4%D0%BE%D1%87%D0%BD%D1%8B%D0%B9_%D0%B0%D0%BD%D0%B0%D0%BB%D0%B8%D0%B7.ipynb\" target=\"_parent\"><img src=\"https://colab.research.google.com/assets/colab-badge.svg\" alt=\"Open In Colab\"/></a>"
      ]
    },
    {
      "cell_type": "markdown",
      "source": [
        "##Теория вероятностей и математическая статистика"
      ],
      "metadata": {
        "id": "hLhNKjw92c66"
      }
    },
    {
      "cell_type": "markdown",
      "source": [
        "###Урок 3. EDA (exploratory data analysis) или Разведочный анализ"
      ],
      "metadata": {
        "id": "02tLt0dA-oCF"
      }
    },
    {
      "cell_type": "markdown",
      "source": [
        "1. Даны значения зарплат из выборки выпускников: 100, 80, 75, 77, 89, 33, 45, 25, 65, 17, 30, 24, 57, 55, 70, 75, 65, 84, 90, 150. Посчитать (желательно без использования статистических методов наподобие std, var, mean) среднее арифметическое, среднее квадратичное отклонение, смещенную и несмещенную оценки дисперсий для данной выборки."
      ],
      "metadata": {
        "id": "6nmI9m9gz_7b"
      }
    },
    {
      "cell_type": "code",
      "source": [
        "salary_list = [100, 80, 75, 77, 89, 33, 45, 25, 65, 17, 30, 24, 57, 55, 70, 75, 65, 84, 90, 150]"
      ],
      "metadata": {
        "id": "eRr3o5uW0T3k"
      },
      "execution_count": null,
      "outputs": []
    },
    {
      "cell_type": "code",
      "source": [
        "a_mean =  sum(salary_list)/len(salary_list)\n",
        "print ('Среднее арифметическое -', a_mean)"
      ],
      "metadata": {
        "colab": {
          "base_uri": "https://localhost:8080/"
        },
        "id": "1LDuhrcZ20AT",
        "outputId": "52f07ffc-e1fc-4933-d4e3-b24d3758087f"
      },
      "execution_count": null,
      "outputs": [
        {
          "output_type": "stream",
          "name": "stdout",
          "text": [
            "Среднее арифметическое - 65.3\n"
          ]
        }
      ]
    },
    {
      "cell_type": "code",
      "source": [
        "dev_mean = list(map(lambda x: (x-a_mean)**2, salary_list))\n",
        "print('Отклонение от среднего в квадрате -', dev_mean)\n",
        "dispers = sum(dev_mean)/len(dev_mean)\n",
        "print('Смещенная дисперсия -', dispers)\n",
        "m_sq_dev = dispers**0.5\n",
        "print('Среднее квадратичное отклонение -', m_sq_dev)"
      ],
      "metadata": {
        "colab": {
          "base_uri": "https://localhost:8080/"
        },
        "id": "I7Th7ZVp4IQi",
        "outputId": "52a736b3-ea69-4636-fe21-046d069851df"
      },
      "execution_count": null,
      "outputs": [
        {
          "output_type": "stream",
          "name": "stdout",
          "text": [
            "Отклонение от среднего в квадрате - [1204.0900000000001, 216.0900000000001, 94.09000000000006, 136.89000000000007, 561.6900000000002, 1043.2899999999997, 412.08999999999986, 1624.0899999999997, 0.08999999999999829, 2332.89, 1246.0899999999997, 1705.6899999999998, 68.88999999999996, 106.08999999999995, 22.09000000000003, 94.09000000000006, 0.08999999999999829, 349.6900000000001, 610.0900000000001, 7174.09]\n",
            "Смещенная дисперсия - 950.11\n",
            "Среднее квадратичное отклонение - 30.823854398825596\n"
          ]
        }
      ]
    },
    {
      "cell_type": "code",
      "source": [
        "sdispers = sum(dev_mean)/(len(dev_mean)-1)\n",
        "print('Несмещенная дисперсия -', sdispers)"
      ],
      "metadata": {
        "colab": {
          "base_uri": "https://localhost:8080/"
        },
        "id": "g4msN-2V8-TW",
        "outputId": "89bbd552-49c1-481a-a471-da73a2f8fe1e"
      },
      "execution_count": null,
      "outputs": [
        {
          "output_type": "stream",
          "name": "stdout",
          "text": [
            "Несмещенная дисперсия - 1000.1157894736842\n"
          ]
        }
      ]
    },
    {
      "cell_type": "markdown",
      "source": [
        "2. В первом ящике находится 8 мячей, из которых 5 - белые. Во втором ящике - 12 мячей, из которых 5 белых. Из первого ящика вытаскивают случайным образом два мяча, из второго - 4. Какова вероятность того, что 3 мяча белые?"
      ],
      "metadata": {
        "id": "8Ql5yVu2mOYH"
      }
    },
    {
      "cell_type": "markdown",
      "source": [
        "Вероятность вытащить 3 белых мяча складывается из 3х событий:  \n",
        "А1 - из первого ящика вытаскивают 2 белых и из второго 1 белый  \n",
        "А2- из первого ящика вытаскивают 1 белый и из второго 2 белых  \n",
        "А3 - из первого ни одного, из второго 3 белых\n",
        "\n",
        "А = А1+А2+А3\n",
        "\n",
        "$$P(A1)=\\frac{C_5^2}{C_8^2}\\times\\frac{C_5^1\\times{C_7^3}}{C_{12}^4}$$\n"
      ],
      "metadata": {
        "id": "NQzNuAEvp_HS"
      }
    },
    {
      "cell_type": "code",
      "execution_count": null,
      "metadata": {
        "id": "RE8D4ycnBbmG"
      },
      "outputs": [],
      "source": [
        "from math import factorial as fc"
      ]
    },
    {
      "cell_type": "code",
      "source": [
        "def prob(n,k):\n",
        "    return fc(n)/(fc(k)*fc(n-k))"
      ],
      "metadata": {
        "id": "gEPMNCJ4-4NF"
      },
      "execution_count": null,
      "outputs": []
    },
    {
      "cell_type": "code",
      "source": [
        "p1 = prob(5,2)/prob(8,2)*prob(5,1)*prob(7,3)/prob(12,4)\n",
        "print('А1 =', p1)"
      ],
      "metadata": {
        "colab": {
          "base_uri": "https://localhost:8080/"
        },
        "id": "zg8FCx-7yKg-",
        "outputId": "8189cef1-0745-4e21-a854-b2c65209f607"
      },
      "execution_count": null,
      "outputs": [
        {
          "output_type": "stream",
          "name": "stdout",
          "text": [
            "А1 = 0.12626262626262627\n"
          ]
        }
      ]
    },
    {
      "cell_type": "markdown",
      "source": [
        "$$P(A2)=\\frac{C_5^1\\times C_3^1}{C_8^2}\\times\\frac{C_5^2\\times{C_7^2}}{C_{12}^4}$$"
      ],
      "metadata": {
        "id": "qUhW3Nd_02fj"
      }
    },
    {
      "cell_type": "code",
      "source": [
        "prob(5,1)"
      ],
      "metadata": {
        "colab": {
          "base_uri": "https://localhost:8080/"
        },
        "id": "GoNjneme7Z8o",
        "outputId": "c8dcf6b7-0ced-427b-b479-1e958c30900a"
      },
      "execution_count": null,
      "outputs": [
        {
          "output_type": "execute_result",
          "data": {
            "text/plain": [
              "5.0"
            ]
          },
          "metadata": {},
          "execution_count": 61
        }
      ]
    },
    {
      "cell_type": "code",
      "source": [
        "p2 = prob(5,1)*prob(3,1)/prob(8,2)*prob(5,2)*prob(7,2)/prob(12,4)\n",
        "print('А2 =', p2)"
      ],
      "metadata": {
        "colab": {
          "base_uri": "https://localhost:8080/"
        },
        "id": "aLKUemv41ufN",
        "outputId": "5a0e014b-f25a-4108-f513-9234400332b7"
      },
      "execution_count": null,
      "outputs": [
        {
          "output_type": "stream",
          "name": "stdout",
          "text": [
            "А2 = 0.22727272727272724\n"
          ]
        }
      ]
    },
    {
      "cell_type": "markdown",
      "source": [
        "$$P(A3)=\\frac{C_3^2}{C_8^2}\\times\\frac{C_5^3\\times{C_7^1}}{C_{12}^4}$$"
      ],
      "metadata": {
        "id": "rQ8OW1C82Flv"
      }
    },
    {
      "cell_type": "code",
      "source": [
        "p3 = (prob(3,2)/prob(8,2))*(prob(5,3)*prob(7,1)/prob(12,4))\n",
        "print(f'А3 = {p3}')"
      ],
      "metadata": {
        "colab": {
          "base_uri": "https://localhost:8080/"
        },
        "id": "93uPteqO2wPR",
        "outputId": "0028f524-0355-4bba-e279-2f1ec317e065"
      },
      "execution_count": null,
      "outputs": [
        {
          "output_type": "stream",
          "name": "stdout",
          "text": [
            "А3 = 0.01515151515151515\n"
          ]
        }
      ]
    },
    {
      "cell_type": "markdown",
      "source": [
        "А = А1+А2+А3"
      ],
      "metadata": {
        "id": "gaTF1XyG2_57"
      }
    },
    {
      "cell_type": "code",
      "source": [
        "f'Овет: {p1+p2+p3:.{4}f}'"
      ],
      "metadata": {
        "colab": {
          "base_uri": "https://localhost:8080/",
          "height": 35
        },
        "id": "pb_udPaE3EVD",
        "outputId": "4ca10361-bcc4-4f70-a5b7-647f73f50b93"
      },
      "execution_count": null,
      "outputs": [
        {
          "output_type": "execute_result",
          "data": {
            "text/plain": [
              "'Овет: 0.3687'"
            ],
            "application/vnd.google.colaboratory.intrinsic+json": {
              "type": "string"
            }
          },
          "metadata": {},
          "execution_count": 68
        }
      ]
    },
    {
      "cell_type": "markdown",
      "source": [
        "3. На соревновании по биатлону один из трех спортсменов стреляет и попадает в мишень. Вероятность попадания для первого спортсмена равна 0.9, для второго — 0.8, для третьего — 0.6. Найти вероятность того, что выстрел произведен: a). первым спортсменом б). вторым спортсменом в). третьим спортсменом.\n"
      ],
      "metadata": {
        "id": "1sP2XamG-zW6"
      }
    },
    {
      "cell_type": "markdown",
      "source": [
        "А-в результате выстрела, цель поражена  \n",
        "В1-выстрел произведен первым спортсменом  \n",
        "В2-выстрел произведен вторым спортсменом  \n",
        "В3-выстрел произведен третьим спортсменом.\n",
        "\n",
        "P(B1)=P(B2)=P(B3)=1/3\n",
        "\n",
        "Вероятность наступления события A: $$P(A)=P(B_1)\\cdot P_{B_1}(A)+P(B_2)\\cdot P_{B_2}(A)+P(B_3)\\cdot P_{B_3}(A)=\\frac{1}{3}\\cdot 0.9+\\frac{1}{3}\\cdot 0.8+\\frac{1}{3}\\cdot 0.6$$"
      ],
      "metadata": {
        "id": "SAMAUMTvQbEl"
      }
    },
    {
      "cell_type": "code",
      "source": [
        "PA=1/3*0.9+1/3*0.8+1/3*0.6\n",
        "PA"
      ],
      "metadata": {
        "colab": {
          "base_uri": "https://localhost:8080/"
        },
        "id": "hglDZWoOSGOM",
        "outputId": "f8b00529-e672-4ce3-d906-5e792d9bd9a7"
      },
      "execution_count": 2,
      "outputs": [
        {
          "output_type": "execute_result",
          "data": {
            "text/plain": [
              "0.7666666666666666"
            ]
          },
          "metadata": {},
          "execution_count": 2
        }
      ]
    },
    {
      "cell_type": "markdown",
      "source": [
        "Далее воспользуемся формулой Байеса, и найдем вероятность события $B_n$\n",
        "$$P_A(B_n)=\\frac{P(B_n)\\cdot P_{B_n}(A)}{P(A)}\\Rightarrow {;}P_A(B_1)=\\frac{\\frac{1}{3}\\cdot 0.9}{0.7667}{;}P_A(B_2)=\\frac{\\frac{1}{3}\\cdot 0.8}{0.7667}{;}P_A(B_1)=\\frac{\\frac{1}{3}\\cdot 0.6}{0.7667}$$"
      ],
      "metadata": {
        "id": "Czz_Zy2NSwfQ"
      }
    },
    {
      "cell_type": "code",
      "source": [
        "PAB1=1/3*0.9/PA\n",
        "PAB2=1/3*0.8/PA\n",
        "PAB3=1/3*0.6/PA\n",
        "print(f'Первый спортсмен-{PAB1:.4f}, второй спортсмен-{PAB2:.4f}, третий спортсмен-{PAB3:.4f}')"
      ],
      "metadata": {
        "colab": {
          "base_uri": "https://localhost:8080/"
        },
        "id": "aldbl-FAUH8l",
        "outputId": "fb2f2322-e992-4924-a2af-9a49a8db58dd"
      },
      "execution_count": 5,
      "outputs": [
        {
          "output_type": "stream",
          "name": "stdout",
          "text": [
            "Первый спортсмен-0.3913, второй спортсмен-0.3478, третий спортсмен-0.2609\n"
          ]
        }
      ]
    },
    {
      "cell_type": "markdown",
      "source": [
        "4. В университет на факультеты A и B поступило равное количество студентов, а на факультет C студентов поступило столько же, сколько на A и B вместе. Вероятность того, что студент факультета A сдаст первую сессию, равна 0.8. Для студента факультета B эта вероятность равна 0.7, а для студента факультета C - 0.9. Студент сдал первую сессию. Какова вероятность, что он учится: a). на факультете A б). на факультете B в). на факультете C?\n"
      ],
      "metadata": {
        "id": "2zDl41ur9G5w"
      }
    },
    {
      "cell_type": "markdown",
      "source": [
        "Студентов на факультетах по условию:  \n",
        "A=B=1/4  \n",
        "c=1/2  \n",
        "D - событие-сессия сдана  \n",
        "Полная вероятность события D:$$\\frac{1}{4}\\cdot 0.8+\\frac{1}{4}\\cdot 0.7+\\frac{1}{2}\\cdot 0.9$$"
      ],
      "metadata": {
        "id": "EYkQL-sCViuv"
      }
    },
    {
      "cell_type": "code",
      "source": [
        "D = 1/4*0.8+1/4*0.7+1/2*0.9\n",
        "D"
      ],
      "metadata": {
        "colab": {
          "base_uri": "https://localhost:8080/"
        },
        "id": "bniBNylFWmKF",
        "outputId": "737aa0f7-2d06-4a8f-e6ba-e93471fe5740"
      },
      "execution_count": 6,
      "outputs": [
        {
          "output_type": "execute_result",
          "data": {
            "text/plain": [
              "0.825"
            ]
          },
          "metadata": {},
          "execution_count": 6
        }
      ]
    },
    {
      "cell_type": "markdown",
      "source": [
        "По формуле Байеса вычислим вероятность того, на каком факультете учится студент, успешно сдавший сессию"
      ],
      "metadata": {
        "id": "VUnHT7PAXZf7"
      }
    },
    {
      "cell_type": "code",
      "source": [
        "A=1/4*0.8/D\n",
        "B=1/4*0.7/D\n",
        "C=1/2*0.9/D\n",
        "print(f'Факультет А- {A:.4f}, Факультет B- {B:.4f}, Факультет C- {C:.4f}')"
      ],
      "metadata": {
        "colab": {
          "base_uri": "https://localhost:8080/"
        },
        "id": "JAUYnSx-XfVI",
        "outputId": "1302032d-c769-48b0-8ef4-9b8fdcb8059c"
      },
      "execution_count": 8,
      "outputs": [
        {
          "output_type": "stream",
          "name": "stdout",
          "text": [
            "Факультет А- 0.2424, Факультет B- 0.2121, Факультет C- 0.5455\n"
          ]
        }
      ]
    },
    {
      "cell_type": "markdown",
      "source": [
        "5. Устройство состоит из трех деталей. Для первой детали вероятность выйти из строя в первый месяц равна 0.1, для второй - 0.2, для третьей - 0.25. Какова вероятность того, что в первый месяц выйдут из строя: а). все детали б). только две детали в). хотя бы одна деталь г). от одной до двух деталей?"
      ],
      "metadata": {
        "id": "AjPxga_Y9MHa"
      }
    },
    {
      "cell_type": "markdown",
      "source": [
        "Введем следующие события:  \n",
        "$A1$ - выход из строя первой детали. $P(A1)=0.1$  \n",
        "$\\bar A1$ - событие противоположное $A1$. $P(\\bar A1)=0.9$  \n",
        "$A2$-второй детали.$P(A2)=0.2$. $P(\\bar A2)=0.8$  \n",
        "$A3$-третьей детали.$P(A2)=0.25$. $P(\\bar A2)=0.75$"
      ],
      "metadata": {
        "id": "wmkSb1hkYYYo"
      }
    },
    {
      "cell_type": "markdown",
      "source": [
        "a) Вышли из строя все детали\n",
        "$$P(A_{123})=P(A_1)\\cdot P(A_2)\\cdot P(A_3)=0.1\\cdot 0.2\\cdot 0.25$$"
      ],
      "metadata": {
        "id": "p_3vZe9aaRRu"
      }
    },
    {
      "cell_type": "code",
      "source": [
        "A123 = 0.1*0.2*0.25\n",
        "print(f'{A123:.4f}')"
      ],
      "metadata": {
        "colab": {
          "base_uri": "https://localhost:8080/"
        },
        "id": "-msuq2wQbJMH",
        "outputId": "6571f971-3889-4243-d8c3-5919ead9b428"
      },
      "execution_count": 13,
      "outputs": [
        {
          "output_type": "stream",
          "name": "stdout",
          "text": [
            "0.0050\n"
          ]
        }
      ]
    },
    {
      "cell_type": "markdown",
      "source": [
        "б) Чтобы произошло событие \"вышли из строя 2 детали\", необходимо что бы случилось одна из следующих комбинаций событий:\n",
        "1. Произошли события $A_1$ **и** $A_2$ **и** $\\bar A_3$;  \n",
        "2. Произошли события $A_1$ **и** $A_3$ **и** $\\bar A_2$;  \n",
        "3. Произошли события $A_2$ **и** $A_3$ **и** $\\bar A_1$.  \n",
        "\n",
        "А вероятностью этого события будет сумма вероятностей этих комбинаций  \n",
        "    $$P(2)=P(A_1)\\\\cdot P(A_2)\\\\cdot P(\\\\bar A_3)+P(A_1)\\\\cdot P(A_3)\\\\cdot P(\\\\bar A_2)+P(A_2)\\\\cdot P(A_3)\\\\cdot P(\\\\bar A_1)=0.1\\\\cdot 0.2\\\\cdot 0.75+0.1\\\\cdot 0.25\\\\cdot 0.8+0.2\\\\cdot 0.25\\\\cdot 0.9$$"
      ],
      "metadata": {
        "id": "F846kQbucOGO"
      }
    },
    {
      "cell_type": "code",
      "source": [
        "P2=0.1*0.2*0.75+0.1*0.25*0.8+0.2*0.25*0.9\n",
        "print(f'Р(2) = {P2: .4f}')"
      ],
      "metadata": {
        "colab": {
          "base_uri": "https://localhost:8080/"
        },
        "id": "FW-J8HWhdNnb",
        "outputId": "8b034516-8b61-447a-d693-5e09cad0933d"
      },
      "execution_count": 14,
      "outputs": [
        {
          "output_type": "stream",
          "name": "stdout",
          "text": [
            "Р(2) =  0.0800\n"
          ]
        }
      ]
    },
    {
      "cell_type": "markdown",
      "source": [
        "в) Событие \"выйдет из строя хотя бы одна деталь\" можно рассмотреть как противоположное событию \"не вышло из строя ни одной детали\".\n",
        "$P(\\bar A_{123})=P(\\bar A_1)\\cdot P(\\bar A_2)\\cdot P(\\bar A_3)=0.9*0.8*0.75$"
      ],
      "metadata": {
        "id": "Mrkfss8TfSA-"
      }
    },
    {
      "cell_type": "code",
      "source": [
        "PA123=0.9*0.8*0.75\n",
        "print(f'{PA123: .4f}')"
      ],
      "metadata": {
        "colab": {
          "base_uri": "https://localhost:8080/"
        },
        "id": "mizmEaiid3J9",
        "outputId": "2e6ee5de-e5f3-4dcd-ce93-c60aede9c265"
      },
      "execution_count": 15,
      "outputs": [
        {
          "output_type": "stream",
          "name": "stdout",
          "text": [
            " 0.5400\n"
          ]
        }
      ]
    },
    {
      "cell_type": "markdown",
      "source": [
        "Вероятность события \"выйдет из строя хотя бы одна деталь\" = $1-P(\\bar A_{123})$"
      ],
      "metadata": {
        "id": "hNjPVvQTgiAq"
      }
    },
    {
      "cell_type": "code",
      "source": [
        "P=1-PA123\n",
        "print(f'{P: .4f}')"
      ],
      "metadata": {
        "colab": {
          "base_uri": "https://localhost:8080/"
        },
        "id": "60t-XktKd4Rm",
        "outputId": "e4c8b546-d5da-4ad3-b6d3-8e710ec68175"
      },
      "execution_count": 17,
      "outputs": [
        {
          "output_type": "stream",
          "name": "stdout",
          "text": [
            " 0.4600\n"
          ]
        }
      ]
    },
    {
      "cell_type": "markdown",
      "source": [
        "г) Событие \"из строя выйдут от одной до двух деталей\" произойдет при наступлении события \"из строя выйдет одна деталь\" или \"из строя выйдут 2 детали\", следовательно его вероятность будет равна сумме вероятностей этих событий: $P=P(1)+P(2)$  \n",
        "    найдем $P(1)$"
      ],
      "metadata": {
        "id": "G8iIIW_ThtfD"
      }
    },
    {
      "cell_type": "markdown",
      "source": [
        "Для того, чтобы произошло событие \"из строя выйдет одна деталь\", необходимо что бы случилось одна из следующих комбинаций событий:\n",
        "1. Произошли события $A_1$ **и** $\\bar A_2$ **и** $\\bar A_3$\n",
        "2. Произошли события $A_2$ **и** $\\bar A_1$ **и** $\\bar A_3$  \n",
        "3. Произошли события $A_3$ **и** $\\bar A_1$ **и** $\\bar A_2$.\n",
        "\n"
      ],
      "metadata": {
        "id": "T473a-3UiETV"
      }
    },
    {
      "cell_type": "markdown",
      "source": [
        "А вероятностью этого события  $P(1)$  будет суммой вероятностей этих комбинаций событий\n",
        "$$P(1)=P(A_1)\\cdot P(\\bar A_2)\\cdot P(\\bar A_3)+P(A_2)\\cdot P(\\bar A_1)\\cdot P(\\bar A_3)+P(A_3)\\cdot P(\\bar A_1)\\cdot P(\\bar A_2)=0.1\\cdot 0.8\\cdot 0.75+0.2\\cdot 0.9\\cdot 0.75+0.25\\cdot 0.9\\cdot 0.8$$"
      ],
      "metadata": {
        "id": "etM8jKeCiifT"
      }
    },
    {
      "cell_type": "code",
      "source": [
        "P1=0.1*0.8*0.75+0.2*0.9*0.75+0.25*0.9*0.8\n",
        "print(f'{P1: .4f}')"
      ],
      "metadata": {
        "colab": {
          "base_uri": "https://localhost:8080/"
        },
        "id": "P28YuuRseCGy",
        "outputId": "72153dff-801d-4b3b-9fea-1cd38183e1ab"
      },
      "execution_count": 18,
      "outputs": [
        {
          "output_type": "stream",
          "name": "stdout",
          "text": [
            " 0.3750\n"
          ]
        }
      ]
    },
    {
      "cell_type": "markdown",
      "source": [
        "$P=P(1)+P(2)=0.375+0.08$"
      ],
      "metadata": {
        "id": "AkVQdJd-jHlU"
      }
    },
    {
      "cell_type": "code",
      "source": [
        "P = P1 + P2\n",
        "P"
      ],
      "metadata": {
        "colab": {
          "base_uri": "https://localhost:8080/"
        },
        "id": "vfOse50gjIHs",
        "outputId": "c46dedaa-a0be-45d2-d63a-c3b07dff0de7"
      },
      "execution_count": 19,
      "outputs": [
        {
          "output_type": "execute_result",
          "data": {
            "text/plain": [
              "0.455"
            ]
          },
          "metadata": {},
          "execution_count": 19
        }
      ]
    }
  ],
  "metadata": {
    "colab": {
      "provenance": [],
      "authorship_tag": "ABX9TyOr3gewokQTCEYW6Y1gaoXM",
      "include_colab_link": true
    },
    "kernelspec": {
      "display_name": "Python 3",
      "name": "python3"
    },
    "language_info": {
      "name": "python"
    }
  },
  "nbformat": 4,
  "nbformat_minor": 0
}