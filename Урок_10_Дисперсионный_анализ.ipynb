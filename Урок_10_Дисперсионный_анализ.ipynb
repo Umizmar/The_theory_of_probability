{
  "nbformat": 4,
  "nbformat_minor": 0,
  "metadata": {
    "colab": {
      "provenance": [],
      "authorship_tag": "ABX9TyNTAssNLzVaromrMQNTHbFC"
    },
    "kernelspec": {
      "name": "python3",
      "display_name": "Python 3"
    },
    "language_info": {
      "name": "python"
    }
  },
  "cells": [
    {
      "cell_type": "markdown",
      "source": [
        "##Урок 10. Дисперсионный анализ"
      ],
      "metadata": {
        "id": "vQqSA7qSA07V"
      }
    },
    {
      "cell_type": "markdown",
      "source": [
        "Провести дисперсионный анализ для определения того, есть ли различия среднего роста среди взрослых футболистов, хоккеистов и штангистов. Даны значения роста в трех группах случайно выбранных спортсменов: Футболисты: 173, 175, 180, 178, 177, 185, 183, 182. Хоккеисты: 177, 179, 180, 188, 177, 172, 171, 184, 180. Штангисты: 172, 173, 169, 177, 166, 180, 178, 177, 172, 166, 170"
      ],
      "metadata": {
        "id": "XhsZJ8CPA4VF"
      }
    },
    {
      "cell_type": "code",
      "execution_count": 6,
      "metadata": {
        "id": "52QHiXoMAx2k"
      },
      "outputs": [],
      "source": [
        "import numpy as np\n",
        "from scipy import stats\n",
        "soccer = np.array([173, 175, 180, 178, 177, 185, 183, 182])\n",
        "hockey = np.array([177, 179, 180, 188, 177, 172, 171, 184, 180])\n",
        "weightlifter = np.array([172, 173, 169, 177, 166, 180, 178, 177, 172, 166, 170])"
      ]
    },
    {
      "cell_type": "markdown",
      "source": [
        "Сформулируем нулевую гипотезу:  \n",
        "$H0 : \\mu_1=\\mu_2=\\mu_3$  т.е. средний рост спортсмена не зависит от вида спорта, которым он занимается  \n",
        "Альтернативная гипотеза:  \n",
        "$H1: \\mu_1\\neq\\mu_2\\neq\\mu_3$ т.е. средний рост спортсмена зависит от выбранного им спорта."
      ],
      "metadata": {
        "id": "UHkitxnzm1V1"
      }
    },
    {
      "cell_type": "code",
      "source": [
        "stats.f_oneway(soccer, hockey, weightlifter)"
      ],
      "metadata": {
        "colab": {
          "base_uri": "https://localhost:8080/"
        },
        "id": "sPgFxUpdnQXq",
        "outputId": "61a722d4-f90a-425e-c257-082eeffa6402"
      },
      "execution_count": 7,
      "outputs": [
        {
          "output_type": "execute_result",
          "data": {
            "text/plain": [
              "F_onewayResult(statistic=5.500053450812596, pvalue=0.010482206918698694)"
            ]
          },
          "metadata": {},
          "execution_count": 7
        }
      ]
    },
    {
      "cell_type": "markdown",
      "source": [
        "**pvalue = 0.0104** на уровне статистической значимости $\\alpha = 0.05$\n",
        " отвергаем нулевую гипотезу. Т.е. средний рост футболистов, хоккеистов и штангистоа различен"
      ],
      "metadata": {
        "id": "9xNZLCSlnzUS"
      }
    }
  ]
}