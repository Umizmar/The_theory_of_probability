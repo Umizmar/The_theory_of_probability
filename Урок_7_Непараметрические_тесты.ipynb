{
  "nbformat": 4,
  "nbformat_minor": 0,
  "metadata": {
    "colab": {
      "provenance": [],
      "authorship_tag": "ABX9TyOWSRbHSCC/BZdskNHYRpDk"
    },
    "kernelspec": {
      "name": "python3",
      "display_name": "Python 3"
    },
    "language_info": {
      "name": "python"
    }
  },
  "cells": [
    {
      "cell_type": "markdown",
      "source": [
        "##Урок 7. Непараметрические тесты"
      ],
      "metadata": {
        "id": "MEPIQolZs0Tp"
      }
    },
    {
      "cell_type": "markdown",
      "source": [
        "1-4 задачи решать с помощью функций, 5ю вручную\n",
        "Выбрать тест и проверить, есть  ли различия между выборками:\n",
        "\n",
        "1 )  Даны две  независимые выборки. Не соблюдается условие нормальности\n",
        "x1  380,420, 290\n",
        "y1 140,360,200,900\n",
        "\n",
        "Сделайте вывод по результатам, полученным с помощью функции\n",
        "\n"
      ],
      "metadata": {
        "id": "Hse8stWPs5gJ"
      }
    },
    {
      "cell_type": "code",
      "source": [
        "import scipy.stats as stats\n"
      ],
      "metadata": {
        "id": "UmbRA-wnUJgu"
      },
      "execution_count": 1,
      "outputs": []
    },
    {
      "cell_type": "code",
      "source": [
        "x1=[380,420, 290]\n",
        "y1=[140,360,200,900]\n",
        "stats.mannwhitneyu(x1,y1)"
      ],
      "metadata": {
        "colab": {
          "base_uri": "https://localhost:8080/"
        },
        "id": "tDpvPMg7URMR",
        "outputId": "dc2b109f-7fe6-4fc3-a189-4c099abd8fea"
      },
      "execution_count": 2,
      "outputs": [
        {
          "output_type": "execute_result",
          "data": {
            "text/plain": [
              "MannwhitneyuResult(statistic=8.0, pvalue=0.6285714285714286)"
            ]
          },
          "metadata": {},
          "execution_count": 2
        }
      ]
    },
    {
      "cell_type": "markdown",
      "source": [
        "**Вывод:** особой статистической разницы между выборками нет"
      ],
      "metadata": {
        "id": "phIdhiG-cc-V"
      }
    },
    {
      "cell_type": "markdown",
      "source": [
        "2 ) Исследовалось влияние препарата на уровень давления пациентов. Сначала измерялось давление до приема препарата, потом через 10 минут и через 30 минут. Есть ли статистически значимые различия?\n",
        "\n",
        "1е измерение до приема препарата: 150, 160, 165, 145, 155\n",
        "2е измерение через 10 минут: 140, 155, 150,  130, 135\n",
        "3е измерение через 30 минут: 130, 130, 120, 130, 125\n",
        "\n"
      ],
      "metadata": {
        "id": "BBljVleHtByt"
      }
    },
    {
      "cell_type": "code",
      "source": [
        "first = [150, 160, 165, 145, 155]\n",
        "second = [140, 155, 150, 130, 135]\n",
        "third = [130, 130, 120, 130, 125]\n",
        "stats.friedmanchisquare(first, second, third)"
      ],
      "metadata": {
        "colab": {
          "base_uri": "https://localhost:8080/"
        },
        "id": "KMcQrEvsVvd5",
        "outputId": "3e396df8-be5b-4468-b6d5-14d4a1e7db46"
      },
      "execution_count": 3,
      "outputs": [
        {
          "output_type": "execute_result",
          "data": {
            "text/plain": [
              "FriedmanchisquareResult(statistic=9.578947368421062, pvalue=0.00831683351100441)"
            ]
          },
          "metadata": {},
          "execution_count": 3
        }
      ]
    },
    {
      "cell_type": "markdown",
      "source": [
        "Статистически значимые различия есть"
      ],
      "metadata": {
        "id": "zBVquLIEc1vW"
      }
    },
    {
      "cell_type": "markdown",
      "source": [
        "3 ) Сравните 1 и 2 е измерения, предполагая, что 3го измерения через 30 минут не было.\n",
        "\n"
      ],
      "metadata": {
        "id": "Wt94hZPztEGW"
      }
    },
    {
      "cell_type": "code",
      "source": [
        "stats.wilcoxon(first, second,)"
      ],
      "metadata": {
        "colab": {
          "base_uri": "https://localhost:8080/"
        },
        "id": "49aHiShRW6iw",
        "outputId": "569a5c98-5406-43ca-a0ce-0e0993ebdede"
      },
      "execution_count": 4,
      "outputs": [
        {
          "output_type": "execute_result",
          "data": {
            "text/plain": [
              "WilcoxonResult(statistic=0.0, pvalue=0.0625)"
            ]
          },
          "metadata": {},
          "execution_count": 4
        }
      ]
    },
    {
      "cell_type": "markdown",
      "source": [
        "При сравнении 1 и 2-го измерения статистически значимых различий нет"
      ],
      "metadata": {
        "id": "PdE7v08AdEUc"
      }
    },
    {
      "cell_type": "markdown",
      "source": [
        "4) Даны 3 группы  учеников плавания.\n",
        "В 1 группе время на дистанцию 50 м составляют:\n",
        "56, 60, 62, 55, 71, 67, 59, 58, 64, 67\n",
        "\n",
        "Вторая группа : 57, 58, 69, 48, 72, 70, 68, 71, 50, 53\n",
        "Третья группа: 57, 67, 49, 48, 47, 55, 66, 51, 54\n",
        "\n"
      ],
      "metadata": {
        "id": "VY53hTHetGTv"
      }
    },
    {
      "cell_type": "code",
      "source": [
        "gr1 = [56, 60, 62, 55, 71, 67, 59, 58, 64, 67]\n",
        "gr2 = [57, 58, 69, 48, 72, 70, 68, 71, 50, 53]\n",
        "gr3 = [57, 67, 49, 48, 47, 55, 66, 51, 54]\n",
        "stats.kruskal(gr1, gr2, gr3)"
      ],
      "metadata": {
        "colab": {
          "base_uri": "https://localhost:8080/"
        },
        "id": "TGzcA5bsXQpR",
        "outputId": "19621ecb-331e-450d-c077-e32aa8abef3e"
      },
      "execution_count": 5,
      "outputs": [
        {
          "output_type": "execute_result",
          "data": {
            "text/plain": [
              "KruskalResult(statistic=5.465564058257224, pvalue=0.0650380998590494)"
            ]
          },
          "metadata": {},
          "execution_count": 5
        }
      ]
    },
    {
      "cell_type": "markdown",
      "source": [
        "Статистически значимых различий нет"
      ],
      "metadata": {
        "id": "S_dJNAoydU7T"
      }
    },
    {
      "cell_type": "markdown",
      "source": [
        "5) Заявляется, что партия изготавливается со средним арифметическим 2,5 см. Проверить данную гипотезу, если известно, что размеры изделий подчинены нормальному закону распределения. Объем выборки 10, уровень статистической значимости 5%\n",
        "\n",
        "2.51, 2.35, 2.74, 2.56, 2.40, 2.36, 2.65, 2.7, 2.67, 2.34"
      ],
      "metadata": {
        "id": "G3cXeK4vtIvY"
      }
    },
    {
      "cell_type": "markdown",
      "source": [
        "Нулевая гипотеза:  \n",
        "$H0: \\mu=2.5$   \n",
        "Альтернативная гипотеза:  \n",
        "$H1: \\mu \\neq 2.5 $"
      ],
      "metadata": {
        "id": "CJ4fneg0gMvK"
      }
    },
    {
      "cell_type": "markdown",
      "source": [
        "$t=\\frac{\\bar X-a}{\\sigma/\\sqrt n}$  \n",
        "a = 2.5    \n",
        "$n=10$"
      ],
      "metadata": {
        "id": "1SQIvHlRgvze"
      }
    },
    {
      "cell_type": "code",
      "source": [
        "import numpy as np\n",
        "items = [2.51, 2.35, 2.74, 2.56, 2.40, 2.36, 2.65, 2.7, 2.67, 2.34]\n",
        "m = np.mean(items)\n",
        "std = np.std(items, ddof=1)\n",
        "print(m, std)"
      ],
      "metadata": {
        "colab": {
          "base_uri": "https://localhost:8080/"
        },
        "id": "YFKXSnB6h0DT",
        "outputId": "464fbbd0-58a4-43be-b6e7-afc03d7750ca"
      },
      "execution_count": 10,
      "outputs": [
        {
          "output_type": "stream",
          "name": "stdout",
          "text": [
            "2.5279999999999996 0.1572542173961923\n"
          ]
        }
      ]
    },
    {
      "cell_type": "markdown",
      "source": [
        "$\\bar X = 2.53$  \n",
        "$\\sigma=0.16$"
      ],
      "metadata": {
        "id": "zQ6QYC8IjlMS"
      }
    },
    {
      "cell_type": "code",
      "source": [
        "t = (m-2.5)/(std/np.sqrt(10))\n",
        "t"
      ],
      "metadata": {
        "colab": {
          "base_uri": "https://localhost:8080/"
        },
        "id": "aNNLHDgejvnm",
        "outputId": "2db974fc-5be0-4ef1-fb09-8a8aa231111e"
      },
      "execution_count": 13,
      "outputs": [
        {
          "output_type": "execute_result",
          "data": {
            "text/plain": [
              "0.5630613661802959"
            ]
          },
          "metadata": {},
          "execution_count": 13
        }
      ]
    },
    {
      "cell_type": "markdown",
      "source": [
        "t по таблице для 0.05 будет 2.26\n",
        "\n",
        "т.к. наблюдаемое t попадает в область принятия гипотезы, то принимаем нулевую гипотезу"
      ],
      "metadata": {
        "id": "MBkHMfh5rJkE"
      }
    }
  ]
}